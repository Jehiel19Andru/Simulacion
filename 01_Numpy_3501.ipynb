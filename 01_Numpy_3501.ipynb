{
 "cells": [
  {
   "cell_type": "markdown",
   "id": "2f211a09-fd47-4bf7-81ec-009140dc9fee",
   "metadata": {},
   "source": [
    "# Introduccion a Numpy"
   ]
  },
  {
   "cell_type": "markdown",
   "id": "44a8bc89-3017-461e-9bbf-0f18f75cc20e",
   "metadata": {},
   "source": [
    "[Numpy](https://numpy.org/doc/stable/) es una libreria para la computación con Python.\n",
    "* Proporciona Arrays N-Dimensionales.\n",
    "* Implementa funciones matematicas sofisticadas.\n",
    "*Proporciona herramientas para integrar C/C++ y Fortran.\n",
    "*Proporciona mecanismos para facilitar la realizacion de las tareas relacionadas con algebra lineal o numeros aleatorios."
   ]
  },
  {
   "cell_type": "markdown",
   "id": "392e6a28-2cf3-44f3-9499-70b9e65096d7",
   "metadata": {},
   "source": [
    "## Imports"
   ]
  },
  {
   "cell_type": "code",
   "execution_count": 4,
   "id": "1bf6e52a-302e-4a16-ab6f-2e69a95c3e29",
   "metadata": {},
   "outputs": [],
   "source": [
    "import numpy as np"
   ]
  },
  {
   "cell_type": "markdown",
   "id": "269cf9a0-6880-4880-8bf3-590e2e6972e2",
   "metadata": {},
   "source": [
    "## Arrays \n",
    "Un **array** es una estructura de datos que consiste en una coleccion de elementos (valores o variables) cada uno identificando por al menos un indece o clave. Un array se almacena de modo que la posicion de cada elemento se almacena de modo que la posicion de cada elemento se pueda calcular apartir de su tupla de indice, mediante una formula matematica. El tipo mas simple de array lineal, tambien llamado array unidimensional."
   ]
  },
  {
   "cell_type": "markdown",
   "id": "904a6d34-e8ef-430b-a259-e315b6e69e7c",
   "metadata": {},
   "source": [
    "En Numpy\n",
    "* Cada dimension se denomina **axis**\n",
    "* El numero de dimenciones se denomina **rank**\n",
    "* La lista de dimensiones con su correspondiente longitud se denomina **shape**.\n",
    "* El numero total de elementos (multiplicacion de la longitud de las dimensiones) se denomina **size**"
   ]
  },
  {
   "cell_type": "code",
   "execution_count": 7,
   "id": "d7eed30a-2a90-4e99-becf-e68a49ff025e",
   "metadata": {},
   "outputs": [
    {
     "data": {
      "text/plain": [
       "array([[0., 0., 0., 0.],\n",
       "       [0., 0., 0., 0.]])"
      ]
     },
     "execution_count": 7,
     "metadata": {},
     "output_type": "execute_result"
    }
   ],
   "source": [
    "# Array cuyos valores son todos 0.\n",
    "a= np.zeros((2, 4))\n",
    "a"
   ]
  },
  {
   "cell_type": "markdown",
   "id": "61bfa981-61ab-4c6a-a0d1-060e016ef3ab",
   "metadata": {},
   "source": [
    "**a** es un array:\n",
    "* Con dos **axis**, el primero de longitud 2 y el segundo de longitud 4.\n",
    "* Con un **rank** igual a 2.\n",
    "* Con un **shape** igual a (2,4).\n",
    "* Con un **size** igual a 8."
   ]
  },
  {
   "cell_type": "code",
   "execution_count": 9,
   "id": "6cd79f8b-fc24-4e48-8f8e-f45d8f336db2",
   "metadata": {},
   "outputs": [
    {
     "data": {
      "text/plain": [
       "(2, 4)"
      ]
     },
     "execution_count": 9,
     "metadata": {},
     "output_type": "execute_result"
    }
   ],
   "source": [
    "a.shape"
   ]
  },
  {
   "cell_type": "code",
   "execution_count": 10,
   "id": "03f9a778-aa19-4d37-b4a8-80b99ff86daf",
   "metadata": {},
   "outputs": [
    {
     "data": {
      "text/plain": [
       "2"
      ]
     },
     "execution_count": 10,
     "metadata": {},
     "output_type": "execute_result"
    }
   ],
   "source": [
    "a.ndim"
   ]
  },
  {
   "cell_type": "code",
   "execution_count": 11,
   "id": "303d10d1-0208-4ad6-869e-714bc40df9f1",
   "metadata": {},
   "outputs": [
    {
     "data": {
      "text/plain": [
       "8"
      ]
     },
     "execution_count": 11,
     "metadata": {},
     "output_type": "execute_result"
    }
   ],
   "source": [
    "a.size"
   ]
  },
  {
   "cell_type": "markdown",
   "id": "a37674a8-5584-4145-b5b7-101831573d37",
   "metadata": {},
   "source": [
    "## Creación de arrays"
   ]
  },
  {
   "cell_type": "code",
   "execution_count": 13,
   "id": "b06e09bf-efd9-4206-a9a7-b61361714e7d",
   "metadata": {},
   "outputs": [
    {
     "data": {
      "text/plain": [
       "array([[[0., 0., 0., 0.],\n",
       "        [0., 0., 0., 0.],\n",
       "        [0., 0., 0., 0.]],\n",
       "\n",
       "       [[0., 0., 0., 0.],\n",
       "        [0., 0., 0., 0.],\n",
       "        [0., 0., 0., 0.]]])"
      ]
     },
     "execution_count": 13,
     "metadata": {},
     "output_type": "execute_result"
    }
   ],
   "source": [
    "# Array cuyos valores son todos 0.\n",
    "np.zeros((2,3,4))"
   ]
  },
  {
   "cell_type": "code",
   "execution_count": 14,
   "id": "c5955c49-c9c9-4c15-a0b4-bd8caf836baa",
   "metadata": {},
   "outputs": [
    {
     "data": {
      "text/plain": [
       "array([[[1., 1., 1., 1.],\n",
       "        [1., 1., 1., 1.],\n",
       "        [1., 1., 1., 1.]],\n",
       "\n",
       "       [[1., 1., 1., 1.],\n",
       "        [1., 1., 1., 1.],\n",
       "        [1., 1., 1., 1.]]])"
      ]
     },
     "execution_count": 14,
     "metadata": {},
     "output_type": "execute_result"
    }
   ],
   "source": [
    "# Array cuyos valores son todos 1.\n",
    "np.ones((2,3,4))"
   ]
  },
  {
   "cell_type": "code",
   "execution_count": 15,
   "id": "8bafb221-a804-4613-b51e-0491dbedc81c",
   "metadata": {},
   "outputs": [
    {
     "data": {
      "text/plain": [
       "array([[[8, 8, 8, 8],\n",
       "        [8, 8, 8, 8],\n",
       "        [8, 8, 8, 8]],\n",
       "\n",
       "       [[8, 8, 8, 8],\n",
       "        [8, 8, 8, 8],\n",
       "        [8, 8, 8, 8]]])"
      ]
     },
     "execution_count": 15,
     "metadata": {},
     "output_type": "execute_result"
    }
   ],
   "source": [
    "# Array cuyos valores son todos 8.\n",
    "np.full ((2,3,4), 8)"
   ]
  },
  {
   "cell_type": "code",
   "execution_count": 25,
   "id": "b3da900f-5883-46f7-9ef3-08f6b8ed525a",
   "metadata": {},
   "outputs": [
    {
     "name": "stdout",
     "output_type": "stream",
     "text": [
      "Hola Mundo\n"
     ]
    }
   ],
   "source": [
    "print(\"Hola Mundo\")"
   ]
  },
  {
   "cell_type": "code",
   "execution_count": 29,
   "id": "e4957586-801f-4045-ba48-c80807469984",
   "metadata": {},
   "outputs": [
    {
     "data": {
      "text/plain": [
       "array([[[1.23762452e+224, 4.96040485e+180, 4.95270032e+223,\n",
       "         1.95132487e+227, 2.51715952e+180, 3.17095857e+180,\n",
       "         1.10311979e+155, 1.14115712e+243, 3.81187276e+180],\n",
       "        [1.38759998e+219, 7.33806082e+223, 1.96086570e+243,\n",
       "         3.67591116e+228, 7.10084058e+194, 1.23756628e+214,\n",
       "         2.15754767e+185, 2.35287091e+251, 1.89063981e+219],\n",
       "        [8.39141000e-116, 1.06400250e+248, 3.54950477e+180,\n",
       "         1.16838375e+257, 2.31634004e-152, 9.31313832e+242,\n",
       "         2.34726922e+251, 2.87504676e+161, 2.86889904e+214]],\n",
       "\n",
       "       [[7.50187034e+247, 9.07652381e+223, 1.21697906e-152,\n",
       "         2.19529482e-152, 8.41444044e+276, 1.01150783e+261,\n",
       "         6.01099947e+175, 3.17091504e+180, 1.94210184e+227],\n",
       "        [7.20185284e+159, 6.10935446e+223, 8.73563209e+183,\n",
       "         5.75132125e-090, 1.11493681e+277, 3.73237350e+069,\n",
       "         3.62479391e+228, 4.24356832e+175, 1.14447725e+243],\n",
       "        [4.95267793e+223, 2.19527311e-152, 1.91611770e+214,\n",
       "         1.05894726e-153, 1.17339159e+214, 5.03403489e+223,\n",
       "         3.11080971e+161, 9.85683318e-313, 0.00000000e+000]]])"
      ]
     },
     "execution_count": 29,
     "metadata": {},
     "output_type": "execute_result"
    }
   ],
   "source": [
    "# El resulado de np.empty no es predecible\n",
    "# Se inicializa con los valores del array con los que haya en memoria en ese momento\n",
    "np.empty((2, 3, 9))"
   ]
  },
  {
   "cell_type": "code",
   "execution_count": 39,
   "id": "eac41152-c47f-48bc-ac60-b33b919ee6a1",
   "metadata": {},
   "outputs": [
    {
     "data": {
      "text/plain": [
       "array([[1, 2, 3],\n",
       "       [4, 5, 6]])"
      ]
     },
     "execution_count": 39,
     "metadata": {},
     "output_type": "execute_result"
    }
   ],
   "source": [
    "# Inicializar el array utilizando un array de Python.\n",
    "b = np.array([[1, 2, 3], [4, 5, 6]])\n",
    "b"
   ]
  },
  {
   "cell_type": "code",
   "execution_count": 41,
   "id": "d1196579-fedc-473e-b13a-d9aa9563dc70",
   "metadata": {},
   "outputs": [
    {
     "data": {
      "text/plain": [
       "(2, 3)"
      ]
     },
     "execution_count": 41,
     "metadata": {},
     "output_type": "execute_result"
    }
   ],
   "source": [
    "b.shape"
   ]
  },
  {
   "cell_type": "code",
   "execution_count": 45,
   "id": "c72cd378-1a45-411d-a9dd-c84a4ab15e1b",
   "metadata": {},
   "outputs": [
    {
     "name": "stdout",
     "output_type": "stream",
     "text": [
      "[0.         0.66666667 1.33333333 2.         2.66666667 3.33333333\n",
      " 4.         4.66666667 5.33333333 6.        ]\n"
     ]
    }
   ],
   "source": [
    "# Crear un array utiliazando una función basada en rangos\n",
    "# (minimo, maximo, número elementos del array)\n",
    "print(np.linspace(0, 6, 10))"
   ]
  },
  {
   "cell_type": "code",
   "execution_count": 49,
   "id": "b955332f-27ba-4275-b45b-4e48fa493769",
   "metadata": {},
   "outputs": [
    {
     "data": {
      "text/plain": [
       "array([[[0.26565602, 0.45042823, 0.0500883 , 0.6871233 ],\n",
       "        [0.72808949, 0.84950043, 0.18116668, 0.24452072],\n",
       "        [0.47713465, 0.75442348, 0.88622921, 0.37008045]],\n",
       "\n",
       "       [[0.43095603, 0.66837647, 0.40660196, 0.49447901],\n",
       "        [0.16285264, 0.0423872 , 0.82436464, 0.32346197],\n",
       "        [0.72824073, 0.23688255, 0.06781085, 0.53331736]],\n",
       "\n",
       "       [[0.6651258 , 0.65252106, 0.58733502, 0.5062711 ],\n",
       "        [0.34425592, 0.40285155, 0.26496499, 0.94285202],\n",
       "        [0.61393643, 0.86143298, 0.98361825, 0.85661519]]])"
      ]
     },
     "execution_count": 49,
     "metadata": {},
     "output_type": "execute_result"
    }
   ],
   "source": [
    "# Inicializar el array con valores aleatorios.\n",
    "np.random.rand(3, 3, 4)"
   ]
  },
  {
   "cell_type": "code",
   "execution_count": 53,
   "id": "50ae22c4-647f-4673-b621-e109a07de8a1",
   "metadata": {},
   "outputs": [
    {
     "data": {
      "text/plain": [
       "array([[-2.98342323, -0.52829399, -1.21440409, -0.78578557],\n",
       "       [ 1.08710069, -0.53241944, -0.75253659,  0.26393696]])"
      ]
     },
     "execution_count": 53,
     "metadata": {},
     "output_type": "execute_result"
    }
   ],
   "source": [
    "# Iniciar array con valores aleatorios con forme a una distribución normal.\n",
    "np.random.randn(2, 4)"
   ]
  },
  {
   "cell_type": "code",
   "execution_count": 69,
   "id": "927d8604-4996-4557-a90a-1a3ffe2e0eba",
   "metadata": {},
   "outputs": [
    {
     "data": {
      "image/png": "[encoded data removed]",
      "text/plain": [
       "<Figure size 640x480 with 1 Axes>"
      ]
     },
     "metadata": {},
     "output_type": "display_data"
    }
   ],
   "source": [
    "%matplotlib inline\n",
    "import matplotlib.pyplot as plt\n",
    "\n",
    "c = np.random.randn(10000)\n",
    "plt.hist(c, bins=600)\n",
    "plt.show()"
   ]
  },
  {
   "cell_type": "code",
   "execution_count": 77,
   "id": "c5ebc869-10ae-4761-a748-a809d286f2b5",
   "metadata": {},
   "outputs": [
    {
     "data": {
      "text/plain": [
       "array([[ 0.,  2.,  4.,  6.,  8.],\n",
       "       [ 1.,  3.,  5.,  7.,  9.],\n",
       "       [ 2.,  4.,  6.,  8., 10.]])"
      ]
     },
     "execution_count": 77,
     "metadata": {},
     "output_type": "execute_result"
    }
   ],
   "source": [
    "# Inicializar un array, utilizando una función personalizada.\n",
    "\n",
    "def func(x, y):\n",
    "    return x + 2 * y\n",
    "\n",
    "np.fromfunction(func, (3, 5))"
   ]
  },
  {
   "cell_type": "markdown",
   "id": "5a475789-557d-4f43-b55a-a78d38f7c6d8",
   "metadata": {},
   "source": [
    "## Acceso a los elementos de un array\n",
    "### Array Unidemnsional"
   ]
  },
  {
   "cell_type": "code",
   "execution_count": 81,
   "id": "ff355c98-3203-4e3d-8c26-248a5a9eae0f",
   "metadata": {},
   "outputs": [
    {
     "name": "stdout",
     "output_type": "stream",
     "text": [
      "Shape: (6,)\n",
      "Array_uni [ 1  3  5  7  9 11]\n"
     ]
    }
   ],
   "source": [
    "# Acceder a los elementos de un array.\n",
    "array_uni = np.array([1, 3, 5, 7, 9, 11])\n",
    "print(\"Shape:\", array_uni.shape)\n",
    "print(\"Array_uni\", array_uni)"
   ]
  },
  {
   "cell_type": "code",
   "execution_count": 88,
   "id": "8689eef2-4a82-433b-a359-d36a82abb113",
   "metadata": {},
   "outputs": [
    {
     "data": {
      "text/plain": [
       "9"
      ]
     },
     "execution_count": 88,
     "metadata": {},
     "output_type": "execute_result"
    }
   ],
   "source": [
    "# Accediendo al quinto elemento de un array.\n",
    "array_uni[4]"
   ]
  },
  {
   "cell_type": "code",
   "execution_count": 90,
   "id": "e9579cda-ca4f-4208-8cab-af0ecf1209fe",
   "metadata": {},
   "outputs": [
    {
     "data": {
      "text/plain": [
       "array([5, 7])"
      ]
     },
     "execution_count": 90,
     "metadata": {},
     "output_type": "execute_result"
    }
   ],
   "source": [
    "# Acceder al tercer y cuarto elemento del array\n",
    "array_uni[2:4]"
   ]
  },
  {
   "cell_type": "markdown",
   "id": "ac062655-8d81-4d5c-acf2-cb3bf9008b2a",
   "metadata": {},
   "source": [
    "## Array Multidimensional."
   ]
  },
  {
   "cell_type": "code",
   "execution_count": 93,
   "id": "0e8ad4a5-9b3d-4b60-a129-26289e271424",
   "metadata": {},
   "outputs": [
    {
     "name": "stdout",
     "output_type": "stream",
     "text": [
      "Shape: (2, 4)\n",
      "Array_multi:\n",
      " [[1 2 3 4]\n",
      " [5 6 7 8]]\n"
     ]
    }
   ],
   "source": [
    "# Crear un array multidemensional.\n",
    "array_multi = np.array([[1, 2, 3, 4],[5, 6 , 7, 8]])\n",
    "print(\"Shape:\", array_multi.shape)\n",
    "print(\"Array_multi:\\n\", array_multi)"
   ]
  },
  {
   "cell_type": "code",
   "execution_count": 97,
   "id": "baa87727-c568-46ee-8c37-92a2ee5a9500",
   "metadata": {},
   "outputs": [
    {
     "data": {
      "text/plain": [
       "4"
      ]
     },
     "execution_count": 97,
     "metadata": {},
     "output_type": "execute_result"
    }
   ],
   "source": [
    "# Acceder al cuarto elemento del array.\n",
    "array_multi[0, 3]"
   ]
  },
  {
   "cell_type": "code",
   "execution_count": 99,
   "id": "f224ace1-66da-41c1-a914-e0f9ab646c92",
   "metadata": {},
   "outputs": [
    {
     "data": {
      "text/plain": [
       "array([5, 6, 7, 8])"
      ]
     },
     "execution_count": 99,
     "metadata": {},
     "output_type": "execute_result"
    }
   ],
   "source": [
    "## Acceder a la segunda fila del array.\n",
    "array_multi[1, :]"
   ]
  },
  {
   "cell_type": "code",
   "execution_count": 101,
   "id": "18a8e580-22f2-49f1-b15f-1f06be8d5b78",
   "metadata": {},
   "outputs": [
    {
     "data": {
      "text/plain": [
       "array([3, 7])"
      ]
     },
     "execution_count": 101,
     "metadata": {},
     "output_type": "execute_result"
    }
   ],
   "source": [
    "# Acceder al primer elemento de las dos primeras filas del array.\n",
    "array_multi[0:2, 2]"
   ]
  },
  {
   "cell_type": "markdown",
   "id": "d2ce5e81-a950-411c-9ee8-c8ad32049ac1",
   "metadata": {},
   "source": [
    "## Modificacion de un array"
   ]
  },
  {
   "cell_type": "code",
   "execution_count": 110,
   "id": "f6373033-1041-4834-829f-d77ae1f7f4e8",
   "metadata": {},
   "outputs": [
    {
     "name": "stdout",
     "output_type": "stream",
     "text": [
      "Shape: (28,)\n",
      "Array_multi:\n",
      " [ 0  1  2  3  4  5  6  7  8  9 10 11 12 13 14 15 16 17 18 19 20 21 22 23\n",
      " 24 25 26 27]\n"
     ]
    }
   ],
   "source": [
    "# Crear un arreglo unidimensional e inicializarlo con un rango \n",
    "# de elementos del  0-27\n",
    "array1 = np.arange(28)\n",
    "print(\"Shape:\", array1.shape)\n",
    "print(\"Array_multi:\\n\", array1)"
   ]
  },
  {
   "cell_type": "code",
   "execution_count": 112,
   "id": "db791ee8-423b-4518-88ef-c65192a55aa9",
   "metadata": {},
   "outputs": [
    {
     "name": "stdout",
     "output_type": "stream",
     "text": [
      "Shape: (7, 4)\n",
      "Array_multi:\n",
      " [[ 0  1  2  3]\n",
      " [ 4  5  6  7]\n",
      " [ 8  9 10 11]\n",
      " [12 13 14 15]\n",
      " [16 17 18 19]\n",
      " [20 21 22 23]\n",
      " [24 25 26 27]]\n"
     ]
    }
   ],
   "source": [
    "# Cambiar las dimensiones del array y sus longitudes.\n",
    "array1.shape = (7, 4)\n",
    "print(\"Shape:\", array1.shape)\n",
    "print(\"Array_multi:\\n\", array1)"
   ]
  },
  {
   "cell_type": "code",
   "execution_count": 114,
   "id": "aa724e49-d7b6-49b9-9ad5-41ebd2b57738",
   "metadata": {},
   "outputs": [
    {
     "name": "stdout",
     "output_type": "stream",
     "text": [
      "Shape: (4, 7)\n",
      "Array_multi:\n",
      " [[ 0  1  2  3  4  5  6]\n",
      " [ 7  8  9 10 11 12 13]\n",
      " [14 15 16 17 18 19 20]\n",
      " [21 22 23 24 25 26 27]]\n"
     ]
    }
   ],
   "source": [
    "# El ejemplo anterior devuelve un nuevo array que apunta a los mismos datos.\n",
    "# Nota: modificaciones en el array, modificaran el otro array.\n",
    "array2 = array1.reshape(4, 7)\n",
    "print(\"Shape:\", array2.shape)\n",
    "print(\"Array_multi:\\n\", array2)"
   ]
  },
  {
   "cell_type": "code",
   "execution_count": 118,
   "id": "41d6e254-7f85-4c45-ac10-5b405a6a0e2a",
   "metadata": {},
   "outputs": [
    {
     "name": "stdout",
     "output_type": "stream",
     "text": [
      "Shape: (4, 7)\n",
      "Array_multi:\n",
      " [[ 0  1  2  3  4  5  6]\n",
      " [ 7  8  9 30 11 12 13]\n",
      " [14 15 16 17 18 19 20]\n",
      " [21 22 23 24 25 26 27]]\n"
     ]
    }
   ],
   "source": [
    "# Modificacion del nuevo array devuelto.\n",
    "array2[1, 3] = 30\n",
    "print(\"Shape:\", array2.shape)\n",
    "print(\"Array_multi:\\n\", array2)"
   ]
  },
  {
   "cell_type": "code",
   "execution_count": 120,
   "id": "945a3881-549f-431b-95e0-7123ae4e49a1",
   "metadata": {},
   "outputs": [
    {
     "name": "stdout",
     "output_type": "stream",
     "text": [
      "Array1:\n",
      " [[ 0  1  2  3]\n",
      " [ 4  5  6  7]\n",
      " [ 8  9 30 11]\n",
      " [12 13 14 15]\n",
      " [16 17 18 19]\n",
      " [20 21 22 23]\n",
      " [24 25 26 27]]\n"
     ]
    }
   ],
   "source": [
    "print(\"Array1:\\n\", array1)"
   ]
  },
  {
   "cell_type": "code",
   "execution_count": 122,
   "id": "7fd6b7cb-84e7-4f6f-bf4a-4a5432ffcb5e",
   "metadata": {},
   "outputs": [
    {
     "name": "stdout",
     "output_type": "stream",
     "text": [
      "Array1: [ 0  1  2  3  4  5  6  7  8  9 30 11 12 13 14 15 16 17 18 19 20 21 22 23\n",
      " 24 25 26 27]\n"
     ]
    }
   ],
   "source": [
    "# Devolver el array a su estado original\n",
    "print(\"Array1:\", array1.ravel())"
   ]
  },
  {
   "cell_type": "markdown",
   "id": "a63bad09-c983-4b21-87a1-64296f3df992",
   "metadata": {},
   "source": [
    "## Operaciones Aritmeticas con Arrays"
   ]
  },
  {
   "cell_type": "code",
   "execution_count": 131,
   "id": "4eac1e2f-98c7-491e-8cc2-b9d64f6db765",
   "metadata": {},
   "outputs": [
    {
     "name": "stdout",
     "output_type": "stream",
     "text": [
      "Array1: [ 2  4  6  8 10 12 14 16]\n",
      "Array2 [0 1 2 3 4 5 6 7]\n"
     ]
    }
   ],
   "source": [
    "array1 = np.arange(2, 18, 2)\n",
    "array2 = np.arange(8)\n",
    "print(\"Array1:\", array1)\n",
    "print(\"Array2\", array2)"
   ]
  },
  {
   "cell_type": "code",
   "execution_count": 135,
   "id": "9fb25e7e-39a6-484a-935f-320a2604f978",
   "metadata": {},
   "outputs": [
    {
     "name": "stdout",
     "output_type": "stream",
     "text": [
      "[ 2  5  8 11 14 17 20 23]\n"
     ]
    }
   ],
   "source": [
    "# Suma\n",
    "print(array1 + array2)"
   ]
  },
  {
   "cell_type": "code",
   "execution_count": 139,
   "id": "0d12e138-bf87-4c4f-87f5-74e169843a3a",
   "metadata": {},
   "outputs": [
    {
     "name": "stdout",
     "output_type": "stream",
     "text": [
      "[2 3 4 5 6 7 8 9]\n"
     ]
    }
   ],
   "source": [
    "# Resta\n",
    "print(array1 - array2)"
   ]
  },
  {
   "cell_type": "code",
   "execution_count": 143,
   "id": "0e55b2c2-9b18-4082-843d-9195913f079d",
   "metadata": {},
   "outputs": [
    {
     "name": "stdout",
     "output_type": "stream",
     "text": [
      "[  0   4  12  24  40  60  84 112]\n"
     ]
    }
   ],
   "source": [
    "# Multiplicación\n",
    "#Nota: No es una multiplicación de matrices.\n",
    "print(array1 * array2)"
   ]
  },
  {
   "cell_type": "markdown",
   "id": "e3720ea8-f6d3-4a04-9cc9-9b26046ab6a1",
   "metadata": {},
   "source": [
    "## Broadcasting\n",
    "Si se aplican operaciones aritmeticas sobre arrays que no tienen la misma forma\n",
    "(shape), Numpy aplica una propiedad que se llama Broadcasting"
   ]
  },
  {
   "cell_type": "code",
   "execution_count": 151,
   "id": "c4ec8e89-03c0-4a5c-b861-f130df9ec34c",
   "metadata": {},
   "outputs": [
    {
     "name": "stdout",
     "output_type": "stream",
     "text": [
      "Shape: (5,)\n",
      "Array_multi:\n",
      " [0 1 2 3 4]\n",
      "\n",
      "\n",
      "Shape: (1,)\n",
      "Array_multi:\n",
      " [3]\n"
     ]
    }
   ],
   "source": [
    "array1 = np.arange(5)\n",
    "array2 = np.array([3])\n",
    "print(\"Shape:\", array1.shape)\n",
    "print(\"Array_multi:\\n\", array1)\n",
    "print(\"\\n\")\n",
    "print(\"Shape:\", array2.shape)\n",
    "print(\"Array_multi:\\n\", array2)"
   ]
  },
  {
   "cell_type": "code",
   "execution_count": 155,
   "id": "55d852c0-15eb-44de-b4a3-5ff58f271800",
   "metadata": {},
   "outputs": [
    {
     "data": {
      "text/plain": [
       "array([3, 4, 5, 6, 7])"
      ]
     },
     "execution_count": 155,
     "metadata": {},
     "output_type": "execute_result"
    }
   ],
   "source": [
    "# Suma de ambos arrays\n",
    "array1 + array2"
   ]
  },
  {
   "cell_type": "code",
   "execution_count": 157,
   "id": "20e872dc-9bf6-43ba-b85a-2cd957a08c58",
   "metadata": {},
   "outputs": [
    {
     "data": {
      "text/plain": [
       "array([-3, -2, -1,  0,  1])"
      ]
     },
     "execution_count": 157,
     "metadata": {},
     "output_type": "execute_result"
    }
   ],
   "source": [
    "# Resta de ambos arrays\n",
    "array1 - array2"
   ]
  },
  {
   "cell_type": "code",
   "execution_count": 159,
   "id": "9fbc51b4-38f8-4310-a4c9-763b38acaebf",
   "metadata": {},
   "outputs": [
    {
     "data": {
      "text/plain": [
       "array([ 0,  3,  6,  9, 12])"
      ]
     },
     "execution_count": 159,
     "metadata": {},
     "output_type": "execute_result"
    }
   ],
   "source": [
    "# Multiplicación\n",
    "array1 * array2"
   ]
  },
  {
   "cell_type": "markdown",
   "id": "5c6f6429-5517-430b-820c-a5fbdb3e6f51",
   "metadata": {},
   "source": [
    "## Funciones estadisticas sobre arrays"
   ]
  },
  {
   "cell_type": "code",
   "execution_count": 162,
   "id": "e73e1fdf-12f8-4c0f-a97e-73cda4475929",
   "metadata": {},
   "outputs": [
    {
     "name": "stdout",
     "output_type": "stream",
     "text": [
      "Array1:\n",
      " [ 1  3  5  7  9 11 13 15 17 19]\n"
     ]
    }
   ],
   "source": [
    "# Creación de un array unidimensional\n",
    "array1 = np.arange(1, 20, 2)\n",
    "print(\"Array1:\\n\", array1)"
   ]
  },
  {
   "cell_type": "code",
   "execution_count": 166,
   "id": "ce465c13-3e37-41c3-983c-b3d03e0c59be",
   "metadata": {},
   "outputs": [
    {
     "data": {
      "text/plain": [
       "10.0"
      ]
     },
     "execution_count": 166,
     "metadata": {},
     "output_type": "execute_result"
    }
   ],
   "source": [
    "# Media de los elementos del array\n",
    "array1.mean()"
   ]
  },
  {
   "cell_type": "code",
   "execution_count": 168,
   "id": "0f7b9c25-fe46-4c29-8395-bf017b226617",
   "metadata": {},
   "outputs": [
    {
     "data": {
      "text/plain": [
       "100"
      ]
     },
     "execution_count": 168,
     "metadata": {},
     "output_type": "execute_result"
    }
   ],
   "source": [
    "# Suma de los elementos del Array\n",
    "array1.sum()"
   ]
  },
  {
   "cell_type": "markdown",
   "id": "ae6e4d32-d747-4e0e-8272-6f74b6ddd7d7",
   "metadata": {},
   "source": [
    "# Funciones universales proporcionadas por numpy: **ufunc**."
   ]
  },
  {
   "cell_type": "code",
   "execution_count": 171,
   "id": "a9bf3719-7a5b-42c9-81f1-06a42e31c2d2",
   "metadata": {},
   "outputs": [
    {
     "data": {
      "text/plain": [
       "array([  1,   9,  25,  49,  81, 121, 169, 225, 289, 361])"
      ]
     },
     "execution_count": 171,
     "metadata": {},
     "output_type": "execute_result"
    }
   ],
   "source": [
    "# Cuadrado de los elementos \n",
    "np.square(array1)"
   ]
  },
  {
   "cell_type": "code",
   "execution_count": 173,
   "id": "df63111f-4a82-4742-8ac5-b2dd41a80d8e",
   "metadata": {},
   "outputs": [
    {
     "data": {
      "text/plain": [
       "array([1.        , 1.73205081, 2.23606798, 2.64575131, 3.        ,\n",
       "       3.31662479, 3.60555128, 3.87298335, 4.12310563, 4.35889894])"
      ]
     },
     "execution_count": 173,
     "metadata": {},
     "output_type": "execute_result"
    }
   ],
   "source": [
    "# La raiz cuadrada de los elementos del array.\n",
    "np.sqrt(array1)"
   ]
  },
  {
   "cell_type": "code",
   "execution_count": 177,
   "id": "016988a5-e482-4288-a814-9d3ed961317c",
   "metadata": {},
   "outputs": [
    {
     "data": {
      "text/plain": [
       "array([2.71828183e+00, 2.00855369e+01, 1.48413159e+02, 1.09663316e+03,\n",
       "       8.10308393e+03, 5.98741417e+04, 4.42413392e+05, 3.26901737e+06,\n",
       "       2.41549528e+07, 1.78482301e+08])"
      ]
     },
     "execution_count": 177,
     "metadata": {},
     "output_type": "execute_result"
    }
   ],
   "source": [
    "# Exponencial de los elementos del array.\n",
    "np.exp(array1)"
   ]
  },
  {
   "cell_type": "code",
   "execution_count": 179,
   "id": "bc1b5fce-fc38-41e4-a320-994c97306bf8",
   "metadata": {},
   "outputs": [
    {
     "data": {
      "text/plain": [
       "array([0.        , 1.09861229, 1.60943791, 1.94591015, 2.19722458,\n",
       "       2.39789527, 2.56494936, 2.7080502 , 2.83321334, 2.94443898])"
      ]
     },
     "execution_count": 179,
     "metadata": {},
     "output_type": "execute_result"
    }
   ],
   "source": [
    "# Logaritmo de los elementos\n",
    "np.log(array1)"
   ]
  }
 ],
 "metadata": {
  "kernelspec": {
   "display_name": "Python 3 (ipykernel)",
   "language": "python",
   "name": "python3"
  },
  "language_info": {
   "codemirror_mode": {
    "name": "ipython",
    "version": 3
   },
   "file_extension": ".py",
   "mimetype": "text/x-python",
   "name": "python",
   "nbconvert_exporter": "python",
   "pygments_lexer": "ipython3",
   "version": "3.12.4"
  }
 },
 "nbformat": 4,
 "nbformat_minor": 5
}
